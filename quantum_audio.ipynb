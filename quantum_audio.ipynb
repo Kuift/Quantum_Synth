{
 "cells": [
  {
   "cell_type": "markdown",
   "metadata": {},
   "source": [
    "# Using Quantum Computer as a sound effect processor\n",
    "\n",
    "## https://arxiv.org/abs/2301.01595"
   ]
  },
  {
   "cell_type": "markdown",
   "metadata": {},
   "source": [
    "When producing music, there are different effects that you can do in order to make interesting effects. In the following we will explore 3 concepts. "
   ]
  },
  {
   "cell_type": "code",
   "execution_count": null,
   "metadata": {},
   "outputs": [],
   "source": [
    "IPython.display.display(IPython.display.Audio(\"Megalovania Meme Sound Effect.mp3\"))"
   ]
  }
 ],
 "metadata": {
  "language_info": {
   "name": "python"
  }
 },
 "nbformat": 4,
 "nbformat_minor": 2
}
